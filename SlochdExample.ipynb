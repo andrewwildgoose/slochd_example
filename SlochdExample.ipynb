{
  "metadata": {
    "kernelspec": {
      "name": "python",
      "display_name": "Python (Pyodide)",
      "language": "python"
    },
    "language_info": {
      "codemirror_mode": {
        "name": "python",
        "version": 3
      },
      "file_extension": ".py",
      "mimetype": "text/x-python",
      "name": "python",
      "nbconvert_exporter": "python",
      "pygments_lexer": "ipython3",
      "version": "3.8"
    }
  },
  "nbformat_minor": 4,
  "nbformat": 4,
  "cells": [
    {
      "cell_type": "code",
      "source": "# 1 mile = 1.609344 km\n# 1 km = 0.621371192 miles\n\nM_TO_KM_RATIO = 1.609344\nKM_TO_M_RATIO = 0.621371192\n\n# Will return slochd point in miles for miles total dist\nSLOCHD_RATIO_3 = 0.6167619 # My calculation\nSLOCHD_RATIO_4 = 0.61728395 # ChatGTP'S calculation\n\ndef calc_slochd(dist):\n    '''\n    Return the point at which the number of miles from the start is equal to the kilometers to the finish.\n    INPUT:\n        dist - float - total distance of the route in miles\n    OUTPUT:\n        slochd_point - float - point at which the number of miles from the start is equal to the kilometers to the finish\n    '''\n    slochd_point = dist * SLOCHD_RATIO_3\n\n    return slochd_point\n\ndef miles_to_km(miles):\n    '''\n    Convert miles to kilometers\n    INPUT:\n        miles - float - distance in miles\n    OUTPUT:\n        kilometers - float - distance in kilometers\n    '''\n    kilometers = miles * M_TO_KM_RATIO\n    return kilometers\n\ndef km_to_miles(kilometers):\n    '''\n    Convert kilometers to miles\n    INOUT:\n        kilometers - float - distance in kilometers\n    OUTPUT:\n        miles - float - distance in miles\n    '''\n    miles = kilometers * KM_TO_M_RATIO\n    return miles\n\ndef main():\n    dist1 = 100\n    dist2 = 160\n    dist3 = 80\n\n    slochd1 = calc_slochd(dist1)\n    slochd2 = calc_slochd(dist2)\n    slochd3 = calc_slochd(dist3)\n\n    miles_left_1 = dist1 - slochd1\n    miles_left_2 = dist2 - slochd2\n    miles_left_3 = dist3 - slochd3\n\n    km_left_1 = miles_to_km(miles_left_1)\n    km_left_2 = miles_to_km(miles_left_2)\n    km_left_3 = miles_to_km(miles_left_3)\n\n    print(f'Slochd point for {dist1} miles: {slochd1}')\n    print(f'km left for {dist1} miles: {km_left_1}')\n\n    print(f'Slochd point for {dist2} miles: {slochd2}')\n    print(f'km left for {dist2} miles: {km_left_2}')\n\n    print(f'Slochd point for {dist3} miles: {slochd3}')\n    print(f'km left for {dist3} miles: {km_left_3}')\n\nif __name__ == '__main__':\n    main()\n    \n    ",
      "metadata": {
        "trusted": true
      },
      "outputs": [
        {
          "name": "stdout",
          "text": "Slochd point for 100 miles: 61.67619\nkm left for 100 miles: 61.676193680640004\nSlochd point for 160 miles: 98.681904\nkm left for 160 miles: 98.681909889024\nSlochd point for 80 miles: 49.340952\nkm left for 80 miles: 49.340954944512\n",
          "output_type": "stream"
        }
      ],
      "execution_count": 1
    },
    {
      "cell_type": "code",
      "source": "",
      "metadata": {
        "trusted": true
      },
      "outputs": [],
      "execution_count": null
    }
  ]
}